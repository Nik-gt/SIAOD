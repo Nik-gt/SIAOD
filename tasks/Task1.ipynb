{
 "cells": [
  {
   "cell_type": "markdown",
   "id": "b658bdac",
   "metadata": {},
   "source": [
    "# Практическая работа №1\n",
    "## Выполнил студент группы БВТ2004 Архипов Никита Дмитриевич"
   ]
  },
  {
   "cell_type": "markdown",
   "id": "79e573f4",
   "metadata": {},
   "source": [
    "### Оглавление\n",
    "1. [Задание 1](#Задание-№1)\n",
    "2. [Задание 2](#Задание-№2)\n",
    "3. [Задание 3](#Задание-№3)"
   ]
  },
  {
   "cell_type": "markdown",
   "id": "244314fb",
   "metadata": {},
   "source": [
    "# Задание 1"
   ]
  },
  {
   "cell_type": "markdown",
   "id": "64630386",
   "metadata": {},
   "source": [
    "Даны две строки: `s1` и `s2` с одинаковым размером.\n",
    "\n",
    "Проверьте, может ли некоторая перестановка строки `s1` “победить” некоторую перестановку строки `s2` или наоборот.\n",
    "\n",
    "Строка x может “победить” строку y (обе имеют размер n), если `x[i] >= y[i]` (в алфавитном порядке) для всех i от 0 до n-1.\n"
   ]
  },
  {
   "cell_type": "markdown",
   "id": "cf51dab2",
   "metadata": {},
   "source": [
    "## Ввод"
   ]
  },
  {
   "cell_type": "markdown",
   "id": "d697a747",
   "metadata": {},
   "source": [
    "`abc`\n",
    "`xya`"
   ]
  },
  {
   "cell_type": "markdown",
   "id": "50b10a2e",
   "metadata": {},
   "source": [
    "## Вывод"
   ]
  },
  {
   "cell_type": "markdown",
   "id": "55442a49",
   "metadata": {},
   "source": [
    "`True`\n",
    "\n",
    "### Исполняемый код записать в ячейку ниже:"
   ]
  },
  {
   "cell_type": "code",
   "execution_count": 117,
   "id": "3b0d440a",
   "metadata": {},
   "outputs": [
    {
     "name": "stdout",
     "output_type": "stream",
     "text": [
      "True\n"
     ]
    }
   ],
   "source": [
    "s1 = 'abc'\n",
    "s2 = 'abc'\n",
    "\n",
    "def winStr(s1, s2):\n",
    "    winx = 0\n",
    "    winy = 0\n",
    "    x = ''.join(sorted(s1))\n",
    "    y = ''.join(sorted(s2))\n",
    "    for i in range(len(s1)):\n",
    "        if (x[i] == y[i]):\n",
    "            winx = winx + 1\n",
    "            winy = winy + 1\n",
    "        elif (x[i] > y[i]): \n",
    "            winx = winx + 1\n",
    "        else: \n",
    "            winy = winy + 1\n",
    "    #print(winx, winy) #отладка \n",
    "    if (winx == len(s1)): return True\n",
    "    if (winy == len(s1)): return True\n",
    "    return False\n",
    "\n",
    "print(winStr(s1, s2))"
   ]
  },
  {
   "cell_type": "markdown",
   "id": "b3a969a6",
   "metadata": {},
   "source": [
    "# Задание 2"
   ]
  },
  {
   "cell_type": "markdown",
   "id": "9c1ce05d",
   "metadata": {},
   "source": [
    "Дана строка `s`, вернуть самую длинную полиндромную подстроку в `s`."
   ]
  },
  {
   "cell_type": "markdown",
   "id": "20415c0e",
   "metadata": {},
   "source": [
    "## Ввод"
   ]
  },
  {
   "cell_type": "markdown",
   "id": "e77fcb44",
   "metadata": {},
   "source": [
    "`babad`"
   ]
  },
  {
   "cell_type": "markdown",
   "id": "49996449",
   "metadata": {},
   "source": [
    "## Вывод"
   ]
  },
  {
   "cell_type": "markdown",
   "id": "75be2464",
   "metadata": {},
   "source": [
    "`aba` или `bab`"
   ]
  },
  {
   "cell_type": "markdown",
   "id": "12ef9771",
   "metadata": {},
   "source": [
    "## Исполняемый код записывать в ячейку ниже"
   ]
  },
  {
   "cell_type": "code",
   "execution_count": 1,
   "id": "3f06c4fc",
   "metadata": {},
   "outputs": [
    {
     "name": "stdout",
     "output_type": "stream",
     "text": [
      "aba\n"
     ]
    }
   ],
   "source": [
    "def findPalindrom(text): #Алгоритм Манахера\n",
    "    N = len(text)\n",
    "    if N == 0:\n",
    "        return\n",
    "    N = 2*N+1    #счетчик позиций\n",
    "    L = [0] * N\n",
    "    L[0] = 0\n",
    "    L[1] = 1\n",
    "    C = 1 #centerPosition\n",
    "    R = 2 #centerRightPosition\n",
    "    i = 0 #currentRightPosition\n",
    "    iMirror = 0 # currentLeftPosition\n",
    "    maxLength = 0\n",
    "    maxCenterPosition = 0\n",
    "    start = -1\n",
    "    end = -1\n",
    "    diff = -1\n",
    "      \n",
    "    for i in range(2,N):\n",
    "        #найти currentLeftPosition iMirror для currentRightPosition i\n",
    "        iMirror = 2*C-i\n",
    "        L[i] = 0\n",
    "        diff = R - i\n",
    "        #если currentRightPosition i внутри centerRightPosition R\n",
    "        if diff > 0: L[i] = min(L[iMirror], diff)\n",
    "  \n",
    "        #пытаемся расширить палиндром с центром в currentRightPosition i.\n",
    "        #для нечетной позиции- сравниваем символы, если совпадают, увеличиваем длину LPS на 1.\n",
    "        #для четной позиции увеличиваем LPS на 1 без сравнения символов.\n",
    "        try:\n",
    "            while ((i+L[i]) < N and (i-L[i]) > 0) and \\\n",
    "                    (((i+L[i]+1) % 2 == 0) or \\\n",
    "                    (text[(i+L[i]+1)//2] == text[(i-L[i]-1)//2])): L[i]+=1\n",
    "        except Exception as e: pass\n",
    "  \n",
    "        if L[i] > maxLength:        \n",
    "            maxLength = L[i]\n",
    "            maxCenterPosition = i\n",
    "  \n",
    "        #если палиндром с центром в currentRightPosition i\n",
    "        #то расширяемся за centerRightPosition R\n",
    "        #исправить centerPosition C на основе расширенного палиндрома\n",
    "        if i + L[i] > R:\n",
    "            C = i\n",
    "            R = i + L[i]\n",
    "  \n",
    "    start = (maxCenterPosition - maxLength) // 2\n",
    "    end = start + maxLength - 1\n",
    "    print (text[start:end+1])\n",
    "  \n",
    "#начало\n",
    "txt1 = \"aba\"\n",
    "findPalindrom(txt1)"
   ]
  },
  {
   "cell_type": "markdown",
   "id": "5f54b630",
   "metadata": {},
   "source": [
    "# Задание 3"
   ]
  },
  {
   "cell_type": "markdown",
   "id": "566f1d3b",
   "metadata": {},
   "source": [
    "Вернуть количество отдельных непустых подстрок текста, которые могут быть записаны как конкатенация некоторой строки с самой собой (т.е. она может быть записана, как `a + a`, где `a` - некоторая строка)."
   ]
  },
  {
   "cell_type": "markdown",
   "id": "0f734fd8",
   "metadata": {},
   "source": [
    "## Ввод"
   ]
  },
  {
   "cell_type": "markdown",
   "id": "e0be5554",
   "metadata": {},
   "source": [
    "`babaa`"
   ]
  },
  {
   "cell_type": "markdown",
   "id": "ab8eda0b",
   "metadata": {},
   "source": [
    "## Вывод"
   ]
  },
  {
   "cell_type": "markdown",
   "id": "1d716d36",
   "metadata": {},
   "source": [
    "2"
   ]
  },
  {
   "cell_type": "markdown",
   "id": "fcd91349",
   "metadata": {},
   "source": [
    "## Исполняемый код записывать в ячейку ниже"
   ]
  },
  {
   "cell_type": "code",
   "execution_count": 119,
   "id": "be07379d",
   "metadata": {},
   "outputs": [
    {
     "name": "stdout",
     "output_type": "stream",
     "text": [
      "2\n"
     ]
    }
   ],
   "source": [
    "import copy\n",
    "def del_substrings(s0, k):\n",
    "    global s\n",
    "    count = 0\n",
    "    i0 = k\n",
    "    for i in range(k, len(s), len(s0)):\n",
    "        #if s[i:i+len(s0)] == len(s0) * ' ': break\n",
    "        if s[i:i+len(s0)] == s0:\n",
    "            if i == k: continue\n",
    "            if i0 == i - len(s0):\n",
    "                #print(s[i:i+len(s0)])\n",
    "                count = 1\n",
    "                i0 = i\n",
    "                s= s[:i] + len(s0) * ' ' + s[i+len(s0):] \n",
    "                #print(s)\n",
    "        else: break\n",
    "    return count\n",
    "\n",
    "def substrings_search(In):\n",
    "    global s\n",
    "    s = copy.copy(In)\n",
    "    l = 1\n",
    "    i = 0\n",
    "    count_s = 0\n",
    "    for l in range(1, len(s)//2 + 1):\n",
    "        for i in range(0, len(s), l):\n",
    "            if s[i:i+l] == len(s[i:i+l]) * ' ': continue\n",
    "            count_s += del_substrings(s[i:i+l], i)  \n",
    "    return count_s\n",
    "\n",
    "print(substrings_search('aabb'))"
   ]
  }
 ],
 "metadata": {
  "kernelspec": {
   "display_name": "Python 3 (ipykernel)",
   "language": "python",
   "name": "python3"
  },
  "language_info": {
   "codemirror_mode": {
    "name": "ipython",
    "version": 3
   },
   "file_extension": ".py",
   "mimetype": "text/x-python",
   "name": "python",
   "nbconvert_exporter": "python",
   "pygments_lexer": "ipython3",
   "version": "3.9.7"
  }
 },
 "nbformat": 4,
 "nbformat_minor": 5
}
