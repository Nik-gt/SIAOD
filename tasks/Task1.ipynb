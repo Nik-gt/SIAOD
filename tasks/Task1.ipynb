{
 "cells": [
  {
   "cell_type": "markdown",
   "id": "7ab0af48",
   "metadata": {},
   "source": [
    "# Практическая работа №1\n",
    "## Выполнил студент группы БВТ2004 Архипов Никита Дмитриевич"
   ]
  },
  {
   "cell_type": "markdown",
   "id": "519748ae",
   "metadata": {},
   "source": [
    "### Оглавление\n",
    "1. [Задание 1](#Задание-№1)\n",
    "2. [Задание 2](#Задание-№2)\n",
    "3. [Задание 3](#Задание-№3)"
   ]
  },
  {
   "cell_type": "markdown",
   "id": "230d7ba0",
   "metadata": {},
   "source": [
    "### Задание №1\n",
    "Массив A состоит из целых положительных чисел ­ длин отрезков. Составьте из трех отрезков такой треугольник, чтобы его периметр был максимально возможным. Если невозможно составить треугольник с положительной площадью ­ функция возвращает 0."
   ]
  },
  {
   "cell_type": "code",
   "execution_count": 31,
   "id": "f757d3a7",
   "metadata": {},
   "outputs": [
    {
     "name": "stdout",
     "output_type": "stream",
     "text": [
      "[-2, 9, -1, -2, 0, 7, -3, 3, 10, 2]\n",
      "26\n"
     ]
    }
   ],
   "source": [
    "import random\n",
    "user_m = 10\n",
    "user_min_limit = -5\n",
    "user_max_limit = 10\n",
    "user_m, user_min_limit, user_max_limit\n",
    "\n",
    "def perimeter(list):\n",
    " if(len(list)) < 3: return 0\n",
    " list.sort(reverse=True)\n",
    " #print(list)\n",
    " perim = 0\n",
    " for i in range(3):\n",
    "  if list[i] < 1: return 0\n",
    "  perim = perim + list[i]\n",
    " return perim\n",
    "\n",
    "list = [ random.randint(user_min_limit, user_max_limit) for j in range(user_m)] \n",
    "print(list)\n",
    "\n",
    "#Найти периметр\n",
    "print(perimeter(list))"
   ]
  },
  {
   "cell_type": "markdown",
   "id": "6c2da714",
   "metadata": {},
   "source": [
    "### Задание №2\n",
    "Дан массив неотрицательных целых чисел nums. Расположите их в таком порядке, чтобы вместе они образовали максимально возможное число. Замечание: Результат может быть очень большим числом, поэтому представьте его как string, а не integer."
   ]
  },
  {
   "cell_type": "code",
   "execution_count": 32,
   "id": "c6d87e82",
   "metadata": {},
   "outputs": [
    {
     "name": "stdout",
     "output_type": "stream",
     "text": [
      "nums= [946, 355, 551, 396, 886, 0, 776, 476, 63, 40, 665, 921, 994, 823, 504, 417, 228, 975, 769, 225, 358, 59, 214, 162, 696, 804, 767, 15, 348, 585]\n",
      "result=  994 975 946 921 886 823 804 776 769 767 696 665 63 59 585 551 504 476 417 40 396 358 355 348 228 225 214 162 15 0\n"
     ]
    }
   ],
   "source": [
    "import random\n",
    "###Второе число больше первого?\n",
    "def inAscendingOrder(num1,num2):\n",
    " #В строки \n",
    " s1 = str(num1)\n",
    " s2 = str(num2)\n",
    " #Минимальная длина\n",
    " l1 = len(s1)\n",
    " l2 = len(s2)\n",
    " lMin = min(l1,l2)\n",
    " lMax = max(l1,l2)\n",
    " #Подстроки чтобы выровнять длины по минимальной длине\n",
    " ss1 = s1[0:lMin]\n",
    " ss2 = s2[0:lMin]\n",
    " #В числа \n",
    " ii1 = int(ss1)\n",
    " ii2 = int(ss2)\n",
    " #Сравнение чисел\n",
    " if ii2 > ii1: return True\n",
    " if ii2 < ii1: return False\n",
    " if l1 == l2 and ii2 == ii1: return True\n",
    " \n",
    " #сюда мы попадаем если числа состоят из разного числа разрядов\n",
    " #b левые разряды  чисел равны. Надо сравнить остальные разряды \n",
    " for i in range(lMin,lMax):\n",
    "  if l1 < l2 and s1[0] >= s2[i]: return False\n",
    "  if l1 > l2 and s2[0] <= s1[i]: return False\n",
    " return True\n",
    "\n",
    "###Найти макс элемент списка\n",
    "def findMax(nums):\n",
    " maxi = nums[0]\n",
    " #Цикл элемент от 1 до последнего \n",
    " #Второй элемент от 1 до последнего\n",
    " for i in range(1, len(nums)):\t\n",
    "  if inAscendingOrder(nums[i], maxi) == False: maxi = nums[i]\n",
    " return maxi\n",
    "\n",
    "###Начало программы\n",
    "user_m = 30 #количество чисел\n",
    "user_min_limit = 0\n",
    "user_max_limit = 999\n",
    "nums = [ random.randint(user_min_limit, user_max_limit) for j in range(user_m)] \n",
    "print(\"nums=\", nums)\n",
    "\n",
    "#Найти макс элемент списка\n",
    "result = \"\" #строка результата\n",
    "while len(nums) > 0:\n",
    " maxi = findMax(nums) #найти максимальный элемент\n",
    " #print(\"maxi=\", maxi)\n",
    " nums.remove(maxi) #удалить максимальный элемент из списка\n",
    " result = result + \" \" + str(maxi) #записать максимальный элемент в результат\n",
    " #print(\"nums=\", nums)\n",
    " \n",
    "print(\"result=\" , result) "
   ]
  },
  {
   "cell_type": "markdown",
   "id": "846b20c6",
   "metadata": {},
   "source": [
    "### Задание №3\n",
    "Дана матрица mat размером m * n, значения ­ целочисленные. Напишите функцию, сортирующую каждую диагональ матрицы по возрастанию и возвращающую получившуюся матрицу."
   ]
  },
  {
   "cell_type": "code",
   "execution_count": 33,
   "id": "0b123eba",
   "metadata": {},
   "outputs": [
    {
     "name": "stdout",
     "output_type": "stream",
     "text": [
      "Исходная матрица:\n",
      "[89, 49, 67, 63, 63, 1, 74]\n",
      "[96, 83, 8, 66, 9, 54, 60]\n",
      "[97, 96, 15, 2, 69, 11, 27]\n",
      "[35, 13, 54, 12, 98, 72, 99]\n",
      "[29, 16, 33, 64, 19, 35, 10]\n",
      "[88, 39, 34, 18, 51, 77, 36]\n",
      "[45, 79, 12, 50, 59, 20, 52]\n",
      "[76, 7, 21, 74, 54, 23, 86]\n",
      "[48, 63, 67, 85, 87, 45, 16]\n",
      "Диагонали матрицы:\n",
      "[[89, 83, 15, 12, 19, 77, 52], [74, 54, 69, 12, 33, 39, 45]]\n",
      "Результат:\n",
      "[[12, 15, 19, 52, 77, 83, 89], [12, 33, 39, 45, 54, 69, 74]]\n"
     ]
    }
   ],
   "source": [
    "##### import random\n",
    "#Задание3\n",
    "\n",
    "user_m = 9\n",
    "user_n = 7\n",
    "user_min_limit = 0\n",
    "user_max_limit = 99\n",
    "\n",
    "mat1 =[ [None for j in range(user_n)] for i in range(2)]\n",
    "mat = [ [ random.randint(user_min_limit, user_max_limit) for j in range(user_n)] for i in range(user_m) ] \n",
    "print('Исходная матрица:')\n",
    "for i in range(user_m):\n",
    "    print(mat[i])\n",
    "\n",
    "def sortD(num):\n",
    " for i in range(user_m):\n",
    "  #mat1.append(num[i][i])\n",
    "  #mat1.append(num[i][user_n - 1 - i])\n",
    "  mat1[0][i] = num[i][i]\n",
    "  mat1[1][i] = num[i][user_n - 1 - i]\n",
    "  if user_m > user_n and i == user_n - 1:\n",
    "   print('Диагонали матрицы:')\n",
    "   print(mat1)\n",
    "   for i in range(2):\n",
    "    mat1[i].sort() \n",
    "   return mat1\n",
    "   break\n",
    "\n",
    "mat1 = sortD(mat)\n",
    "print('Результат:')\n",
    "print(mat1)"
   ]
  }
 ],
 "metadata": {
  "kernelspec": {
   "display_name": "Python 3 (ipykernel)",
   "language": "python",
   "name": "python3"
  },
  "language_info": {
   "codemirror_mode": {
    "name": "ipython",
    "version": 3
   },
   "file_extension": ".py",
   "mimetype": "text/x-python",
   "name": "python",
   "nbconvert_exporter": "python",
   "pygments_lexer": "ipython3",
   "version": "3.9.7"
  }
 },
 "nbformat": 4,
 "nbformat_minor": 5
}
