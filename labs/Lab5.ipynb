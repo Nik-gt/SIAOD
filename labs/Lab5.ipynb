{
 "cells": [
  {
   "cell_type": "markdown",
   "metadata": {
    "id": "WPvB9TcMmKA6"
   },
   "source": [
    "# Лабораторная работа №5\n",
    "# Рекурсия. Фракталы."
   ]
  },
  {
   "cell_type": "markdown",
   "metadata": {
    "id": "96Gi_LEvmSVH"
   },
   "source": [
    "## Выполнил студент группы ФИО ГРУППА\n",
    "***"
   ]
  },
  {
   "cell_type": "markdown",
   "metadata": {
    "id": "4clYOyb0mbEv"
   },
   "source": [
    "### Задание:\n",
    "Реализовать генерацию заданного типа фрактала с применением рекурсивных функций.\n",
    "\n",
    "\n",
    "Добавить возможность задания глубины фрактала. \n",
    "\n",
    "\n",
    "Оценить глубину рекурсии. \n",
    "\n",
    "\n",
    "Построить таблицу зависимости времени построения от глубины фрактала."
   ]
  },
  {
   "cell_type": "markdown",
   "metadata": {
    "id": "wDXHbUmMmhRL"
   },
   "source": [
    "### Список фракталов:\n",
    "\n",
    "Кривая Коха\n",
    "| Кривая Гильберта\n",
    "| Кривая Серпинского\n",
    "| Салфетка Серпинского\n",
    "| Ковер Серпинского\n",
    "| Дерево Пифагора "
   ]
  },
  {
   "cell_type": "markdown",
   "metadata": {
    "id": "Wggfn8l7nG72"
   },
   "source": [
    "### Выполнение:"
   ]
  },
  {
   "cell_type": "code",
   "execution_count": 2,
   "metadata": {
    "id": "681a95mZnOSa"
   },
   "outputs": [],
   "source": [
    "from turtle import *\n",
    "import turtle\n",
    "\n",
    "speed = 5\n",
    "bg_color = \"black\"\n",
    "pen_color = \"red\"\n",
    "screen_width = 800\n",
    "screen_height = 800\n",
    "drawing_width= 700\n",
    "drawing_height = 700\n",
    "pen_width = 5\n",
    "title = \"Python Guides\"\n",
    "fractal_depth = 3\n",
    "\n",
    "\n",
    "def drawline(tur, pos1, pos2):\n",
    "    #tracing the algorithm.\n",
    "    tur.penup()\n",
    "    tur.goto(pos1[0], pos1[1])\n",
    "    tur.pendown()\n",
    "    tur.goto(pos2[0], pos2[1])\n",
    "\n",
    "\n",
    "def recursivedraw(tur, x, y, width, height, count):\n",
    "    drawline(\n",
    "        tur,\n",
    "        [x + width * 0.25, height // 2 + y],\n",
    "        [x + width * 0.75, height // 2 + y],\n",
    "    )\n",
    "    drawline(\n",
    "        tur,\n",
    "        [x + width * 0.25, (height * 0.5) // 2 + y],\n",
    "        [x + width * 0.25, (height * 1.5) // 2 + y],\n",
    "    )\n",
    "    drawline(\n",
    "        tur,\n",
    "        [x + width * 0.75, (height * 0.5) // 2 + y],\n",
    "        [x + width * 0.75, (height * 1.5) // 2 + y],\n",
    "    )\n",
    "\n",
    "    if count <= 0:  # The base case\n",
    "        return\n",
    "    else:  # The recursive step\n",
    "        count -= 1\n",
    "        \n",
    "        recursivedraw(tur, x, y, width // 2, height // 2, count)\n",
    "     \n",
    "        recursivedraw(tur, x + width // 2, y, width // 2, height // 2, count)\n",
    "       \n",
    "        recursivedraw(tur, x, y + width // 2, width // 2, height // 2, count)\n",
    "        \n",
    "        recursivedraw(tur, x + width // 2, y + width // 2, width // 2, height // 2, count)\n",
    "\n",
    "\n",
    "if __name__ == \"__main__\":\n",
    "    \n",
    "    screenset = turtle.Screen()\n",
    "    screenset.setup(screen_width, screen_height)\n",
    "    screenset.title(title)\n",
    "    screenset.bgcolor(bg_color)\n",
    "\n",
    "  \n",
    "    artistpen = turtle.Turtle()\n",
    "    artistpen.hideturtle()\n",
    "    artistpen.pensize(pen_width)\n",
    "    artistpen.color(pen_color)\n",
    "    artistpen.speed(speed)\n",
    "\n",
    "   \n",
    "    recursivedraw(artistpen, - drawing_width / 2, - drawing_height / 2, drawing_width, drawing_height, fractal_depth)\n",
    "\n",
    "\n",
    "    turtle.done()\n"
   ]
  },
  {
   "cell_type": "markdown",
   "metadata": {
    "id": "diOb-K7LnO5a"
   },
   "source": [
    "### Вывод"
   ]
  },
  {
   "cell_type": "code",
   "execution_count": null,
   "metadata": {},
   "outputs": [],
   "source": []
  },
  {
   "cell_type": "code",
   "execution_count": null,
   "metadata": {},
   "outputs": [],
   "source": []
  },
  {
   "cell_type": "code",
   "execution_count": null,
   "metadata": {},
   "outputs": [],
   "source": []
  }
 ],
 "metadata": {
  "colab": {
   "collapsed_sections": [],
   "name": "Lab5.ipynb",
   "provenance": []
  },
  "kernelspec": {
   "display_name": "Python 3 (ipykernel)",
   "language": "python",
   "name": "python3"
  },
  "language_info": {
   "codemirror_mode": {
    "name": "ipython",
    "version": 3
   },
   "file_extension": ".py",
   "mimetype": "text/x-python",
   "name": "python",
   "nbconvert_exporter": "python",
   "pygments_lexer": "ipython3",
   "version": "3.9.7"
  }
 },
 "nbformat": 4,
 "nbformat_minor": 1
}
