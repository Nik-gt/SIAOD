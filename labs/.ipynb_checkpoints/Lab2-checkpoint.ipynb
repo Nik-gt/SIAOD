{
 "cells": [
  {
   "cell_type": "markdown",
   "id": "fifteen-sailing",
   "metadata": {},
   "source": [
    "# Лабораторная работа №2\n",
    "## Выполнил студент группы ГРУППА ФИО"
   ]
  },
  {
   "cell_type": "markdown",
   "id": "particular-syndicate",
   "metadata": {},
   "source": [
    "### Оглавление\n",
    "1. [Задание 1](#Задание-№1)\n",
    "2. [Задание 2](#Задание-№2)\n",
    "3. [Задание 3](#Задание-№3)"
   ]
  },
  {
   "cell_type": "markdown",
   "id": "arctic-stocks",
   "metadata": {},
   "source": [
    "### Задание №1\n",
    "Реализовать методы поиска в соответствии с заданием. Организовать генерацию начального набора случайных данных. Для всех вариантов добавить реализацию добавления, поиска и удаления элементов. Оценить время работы каждого алгоритма поиска и сравнить его со временем работы стандартной функции поиска, используемой в выбранном языке программирования."
   ]
  },
  {
   "cell_type": "code",
   "execution_count": 2,
   "id": "628417a9",
   "metadata": {},
   "outputs": [
    {
     "name": "stdout",
     "output_type": "stream",
     "text": [
      "nums= [278, 675, 914, 64, 335, 474, 526, 849, 138, 173, 574, 329, 220, 697, 614, 223, 206, 295, 282, 486, 382, 513, 906, 50, 431, 538, 486, 429, 57, 431]\n"
     ]
    }
   ],
   "source": [
    "import random\n",
    "import time\n",
    "import copy\n",
    "###Начало программы\n",
    "user_m = 30 #количество чисел\n",
    "user_min_limit = 0\n",
    "user_max_limit = 999\n",
    "nums = [ random.randint(user_min_limit, user_max_limit) for j in range(user_m)] \n",
    "print(\"nums=\", nums)"
   ]
  },
  {
   "cell_type": "code",
   "execution_count": 3,
   "id": "caring-truck",
   "metadata": {
    "scrolled": true
   },
   "outputs": [
    {
     "name": "stdout",
     "output_type": "stream",
     "text": [
      "nums1= [50, 57, 64, 138, 173, 206, 220, 223, 278, 282, 295, 329, 335, 382, 429, 431, 431, 474, 486, 486, 513, 526, 538, 574, 614, 675, 697, 849, 906, 914]\n",
      "1 - add 2 - del 3 - search\n",
      "3\n",
      "1\n",
      "Индекс 1  =  -1\n",
      "--- 6642 ms ---\n"
     ]
    }
   ],
   "source": [
    "nums1 = copy.deepcopy(nums) \n",
    "nums1.sort()\n",
    "print(\"nums1=\", nums1)\n",
    "#Бинарный поиск\n",
    "start_time = time.time()\n",
    "def BinarySearch(lys, val):\n",
    "    first = 0\n",
    "    last = len(lys)\n",
    "    index = -1\n",
    "    while (first <= last) and (index == -1):\n",
    "        mid = (first+last)//2\n",
    "        if lys[mid] == val:\n",
    "            index = mid\n",
    "        else:\n",
    "            if val<lys[mid]:\n",
    "                last = mid -1\n",
    "            else:\n",
    "                first = mid +1\n",
    "    return index\n",
    "\n",
    "print(\"1 - add 2 - del 3 - search\")\n",
    "cmd = int(input())\n",
    "num = int(input())\n",
    "if (cmd == 1): \n",
    "    print(\"Добавить\", num, \": \", end='')\n",
    "    nums1.append(num)\n",
    "    nums1.sort()\n",
    "    print(\"nums=\", nums1)\n",
    "if (cmd == 2): \n",
    "    print(\"Удалить\", num, \": \", end='')\n",
    "    nums1.pop(BinarySearch(nums1, num))  \n",
    "    nums1.sort()\n",
    "    print(\"nums=\", nums)\n",
    "if (cmd == 3): \n",
    "    print(\"Индекс\", num, \" = \", BinarySearch(nums1, num))\n",
    "print(\"--- {0} ms ---\".format(round((time.time() - start_time)*1000)))"
   ]
  },
  {
   "cell_type": "code",
   "execution_count": 5,
   "id": "75af3ea8",
   "metadata": {},
   "outputs": [
    {
     "name": "stdout",
     "output_type": "stream",
     "text": [
      "nums2= [50, 57, 64, 138, 173, 206, 220, 223, 278, 282, 295, 329, 335, 382, 429, 431, 431, 474, 486, 486, 513, 526, 538, 574, 614, 675, 697, 849, 906, 914]\n",
      "1 - add 2 - del 3 - search\n",
      "Индекс 1  =  False\n"
     ]
    }
   ],
   "source": [
    "nums2 = copy.deepcopy(nums) \n",
    "nums2.sort()\n",
    "print(\"nums2=\", nums2)\n",
    "print(\"1 - add 2 - del 3 - search\")\n",
    "#Бинарное дерево\n",
    "\n",
    "class Node(object): \n",
    "    def __init__(self, data, rChild=None, lChild=None):\n",
    "        super(Node,self).__init__()\n",
    "        self.data   = data\n",
    "        self.rChild = rChild\n",
    "        self.lChild = lChild\n",
    "        \n",
    "class BinaryTreeNode:\n",
    "    def __init__(self, data):\n",
    "        self.data = data\n",
    "        self.leftChild = None\n",
    "        self.rightChild=None\n",
    "\n",
    "    def insert(root,newValue):\n",
    "        #if binary search tree is empty, make a new node and declare it as root\n",
    "        if root is None:\n",
    "            root=BinaryTreeNode(newValue)\n",
    "            return root\n",
    "        #binary search tree is not empty, so we will insert it into the tree\n",
    "        #if newValue is less than value of data in root, add it to left subtree and proceed recursively\n",
    "        if newValue<root.data:\n",
    "            root.leftChild=BinaryTreeNode.insert(root.leftChild,newValue)\n",
    "        else:\n",
    "            #if newValue is greater than value of data in root, add it to right subtree and proceed recursively\n",
    "            root.rightChild=BinaryTreeNode.insert(root.rightChild,newValue)\n",
    "        return root\n",
    "    def BinaryTreeSearch(root,value):\n",
    "        #Condition 1\n",
    "        if root==None:\n",
    "            return False\n",
    "        #Condition 2\n",
    "        elif root.data==value:\n",
    "            return True\n",
    "        #Condition 3\n",
    "        elif root.data <value:\n",
    "            return BinaryTreeNode.BinaryTreeSearch(root.rightChild,value)\n",
    "        # Condition 4\n",
    "        else:\n",
    "            return BinaryTreeNode.BinaryTreeSearch(root.leftChild,value)\n",
    "root= BinaryTreeNode.insert(None,nums2[0])\n",
    "for i in range(1, user_m): root = BinaryTreeNode.insert(root,nums2[i])\n",
    "\n",
    "if (cmd == 1): \n",
    "    print(\"Добавить\", num, \": \", end='')\n",
    "    nums2.append(num)\n",
    "    nums2.sort()\n",
    "    print(\"nums=\", root)\n",
    "if (cmd == 2): \n",
    "    print(\"Удалить\", num, \": \", end='')\n",
    "    nums2.pop(BinaryTreeNode.BinaryTreeSearch(root, num))  \n",
    "    nums2.sort()\n",
    "    print(\"nums=\", nums)\n",
    "if (cmd == 3): \n",
    "    print(\"Индекс\", num, \" = \", BinaryTreeNode.BinaryTreeSearch(root, num))"
   ]
  },
  {
   "cell_type": "code",
   "execution_count": null,
   "id": "abe4b0b4",
   "metadata": {},
   "outputs": [],
   "source": [
    "nums3 = copy.deepcopy(nums) \n",
    "nums3.sort()\n",
    "print(\"nums2=\", nums2)\n",
    "print()\n",
    "#Метод Фибоначчи\n",
    "def FibonacciSearch(lys, val):\n",
    "    fibM_minus_2 = 0\n",
    "    fibM_minus_1 = 1\n",
    "    fibM = fibM_minus_1 + fibM_minus_2\n",
    "    while (fibM < len(lys)):\n",
    "        fibM_minus_2 = fibM_minus_1\n",
    "        fibM_minus_1 = fibM\n",
    "        fibM = fibM_minus_1 + fibM_minus_2\n",
    "    index = -1;\n",
    "    while (fibM > 1):\n",
    "        i = min(index + fibM_minus_2, (len(lys)-1))\n",
    "        if (lys[i] < val):\n",
    "            fibM = fibM_minus_1\n",
    "            fibM_minus_1 = fibM_minus_2\n",
    "            fibM_minus_2 = fibM - fibM_minus_1\n",
    "            index = i\n",
    "        elif (lys[i] > val):\n",
    "            fibM = fibM_minus_2\n",
    "            fibM_minus_1 = fibM_minus_1 - fibM_minus_2\n",
    "            fibM_minus_2 = fibM - fibM_minus_1\n",
    "        else :\n",
    "            return i\n",
    "    if(fibM_minus_1 and index < (len(lys)-1) and lys[index+1] == val):\n",
    "        return index+1;\n",
    "    return -1\n",
    "\n",
    "if (cmd == 1): \n",
    "    print(\"Добавить\", num, \": \", end='')\n",
    "    nums3.append(num)\n",
    "    nums3.sort()\n",
    "    print(\"nums=\", nums3)\n",
    "if (cmd == 2): \n",
    "    print(\"Удалить\", num, \": \", end='')\n",
    "    nums3.pop(FibonacciSearch(nums3, num))  \n",
    "    nums3.sort()\n",
    "    print(\"nums=\", nums)\n",
    "if (cmd == 3): \n",
    "    print(\"Индекс\", num, \" = \", FibonacciSearch(nums3, num))"
   ]
  },
  {
   "cell_type": "code",
   "execution_count": 6,
   "id": "34ec2894",
   "metadata": {},
   "outputs": [
    {
     "name": "stdout",
     "output_type": "stream",
     "text": [
      "nums3= [50, 57, 64, 138, 173, 206, 220, 223, 278, 282, 295, 329, 335, 382, 429, 431, 431, 474, 486, 486, 513, 526, 538, 574, 614, 675, 697, 849, 906, 914]\n",
      "\n",
      "Индекс 1  =  -1\n"
     ]
    }
   ],
   "source": [
    "nums4 = copy.deepcopy(nums) \n",
    "nums4.sort()\n",
    "print(\"nums3=\", nums4)\n",
    "print()\n",
    "#Интерполяционный\n",
    "def InterpolationSearch(lys, val):\n",
    "    low = 0\n",
    "    high = (len(lys) - 1)\n",
    "    while low <= high and val >= lys[low] and val <= lys[high]:\n",
    "        index = low + int(((float(high - low) / ( lys[high] - lys[low])) * ( val - lys[low])))\n",
    "        if lys[index] == val:\n",
    "            return index\n",
    "        if lys[index] < val:\n",
    "            low = index + 1;\n",
    "        else:\n",
    "            high = index - 1;\n",
    "    return -1\n",
    "\n",
    "if (cmd == 1): \n",
    "    print(\"Добавить\", num, \": \", end='')\n",
    "    nums4.append(num)\n",
    "    nums4.sort()\n",
    "    print(\"nums=\", nums4)\n",
    "if (cmd == 2): \n",
    "    print(\"Удалить\", num, \": \", end='')\n",
    "    nums4.pop(InterpolationSearch(nums4, num))  \n",
    "    nums4.sort()\n",
    "    print(\"nums=\", nums)\n",
    "if (cmd == 3): \n",
    "    print(\"Индекс\", num, \" = \", InterpolationSearch(nums4, num))"
   ]
  },
  {
   "cell_type": "markdown",
   "id": "maritime-conversation",
   "metadata": {},
   "source": [
    "### Задание №2\n",
    "Написать соответствующие решения для заданных методов."
   ]
  },
  {
   "cell_type": "code",
   "execution_count": 16,
   "id": "97f9de37",
   "metadata": {},
   "outputs": [
    {
     "name": "stdout",
     "output_type": "stream",
     "text": [
      "0\n"
     ]
    }
   ],
   "source": [
    "nums5 = copy.deepcopy(nums) \n",
    "nums5.sort()\n",
    "#Простое рехэширование\n",
    "def hash(alist):\n",
    "    sum = 0\n",
    "    for pos in range(len(alist)):\n",
    "        sum += alist.index(alist[i])\n",
    "\n",
    "    return sum%len(alist)\n",
    "\n",
    "print(hash(nums5))"
   ]
  },
  {
   "cell_type": "code",
   "execution_count": null,
   "id": "b4b80e3a",
   "metadata": {},
   "outputs": [],
   "source": [
    "#Рехэширование с помощью псевдослучайных чисел\n"
   ]
  },
  {
   "cell_type": "code",
   "execution_count": null,
   "id": "1addc092",
   "metadata": {},
   "outputs": [],
   "source": [
    "#Метод цепочек"
   ]
  },
  {
   "cell_type": "markdown",
   "id": "catholic-roots",
   "metadata": {},
   "source": [
    "### Задание №3\n",
    "Расставить на стандартной 64-клеточной шахматной доске 8 ферзей так, чтобы ни один из них не находился под боем другого». Подразумевается, что ферзь бьёт все клетки, расположенные по вертикалям, горизонталям и обеим диагоналям\n",
    "Написать программу,  которая находит хотя бы один способ решения задач.\n"
   ]
  },
  {
   "cell_type": "code",
   "execution_count": null,
   "id": "09de30c9",
   "metadata": {},
   "outputs": [],
   "source": [
    "#queens\n",
    "boardcnt = 0\n",
    "\n",
    "def IsBoardOk (chessboard , row , col ) :\n",
    "\n",
    "   # Check if there is a queen 'Q' positioned to the left of column col on the same row.\n",
    "   for c in range(col) :\n",
    "       if (chessboard[row][c] == 'Q') : return False\n",
    "\n",
    "   # Check if there is queen 'Q' positioned on the upper left diagonal\n",
    "   for r, c in zip(range(row-1, -1, -1), range(col-1, -1, -1)) :\n",
    "       if (chessboard[r][c] == 'Q') : return False\n",
    "\n",
    "   # Check if there is queen 'Q' positioned on the lower left diagonal\n",
    "   for r, c in zip(range(row+1, len(chessboard), 1), range(col-1, -1, -1)) :\n",
    "      if (chessboard[r][c] == 'Q') : return False\n",
    "   return True\n",
    "\n",
    "\n",
    "def PlaceNQueens (chessboard , col ) :\n",
    "\n",
    "    # If all the columns have a queen 'Q', a solution has been found.\n",
    "    global boardcnt\n",
    "\n",
    "    if (col >= len(chessboard)) :\n",
    "\n",
    "        boardcnt += 1\n",
    "        #print(\"Board \" + str(boardcnt))\n",
    "        #print(\"==========================\")\n",
    "        if (boardcnt == 1) : \n",
    "         for row in chessboard : print(row)\n",
    "\n",
    "    else :\n",
    "\n",
    "        # Else try placing the queen on each row of the column and check if the chessboard remains OK.\n",
    "        for row in range(len(chessboard)) :\n",
    "\n",
    "            chessboard[row][col] = 'Q'\n",
    "\n",
    "            if (IsBoardOk(chessboard, row, col) == True) :\n",
    "                # Chess board was OK, hence try placing the queen 'Q' in the next column.\n",
    "                PlaceNQueens(chessboard, col + 1)\n",
    "\n",
    "            chessboard[row][col] = ' '; # As previously placed queen was not valid, restore '.'\n",
    "\n",
    "\n",
    "chessboard = []\n",
    "N = 8 #int(input(\"Enter chessboard size : \"))\n",
    "\n",
    "for i in range(N) :\n",
    " row = [\" \"] * N\n",
    " chessboard.append(row)\n",
    "\n",
    "# Start placing the queen 'Q' from the 0'th column.\n",
    "PlaceNQueens(chessboard, 0)"
   ]
  }
 ],
 "metadata": {
  "kernelspec": {
   "display_name": "Python 3 (ipykernel)",
   "language": "python",
   "name": "python3"
  },
  "language_info": {
   "codemirror_mode": {
    "name": "ipython",
    "version": 3
   },
   "file_extension": ".py",
   "mimetype": "text/x-python",
   "name": "python",
   "nbconvert_exporter": "python",
   "pygments_lexer": "ipython3",
   "version": "3.9.7"
  }
 },
 "nbformat": 4,
 "nbformat_minor": 5
}
