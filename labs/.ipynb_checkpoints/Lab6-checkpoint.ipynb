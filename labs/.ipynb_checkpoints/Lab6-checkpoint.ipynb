{
 "cells": [
  {
   "cell_type": "markdown",
   "metadata": {
    "id": "0z3KlfKDn4_K"
   },
   "source": [
    "# Лабораторная работа 6. \n",
    "# Сетевые алгоритмы. Динамические алгоритмы поиска путей.\n"
   ]
  },
  {
   "cell_type": "markdown",
   "metadata": {
    "id": "96Gi_LEvmSVH"
   },
   "source": [
    "## Выполнил студент группы БВТ2004 Архипов Никита Дмитриевич\n",
    "***"
   ]
  },
  {
   "cell_type": "markdown",
   "metadata": {
    "id": "GjdIp8aToKIe"
   },
   "source": [
    "### Задание\n",
    "\n",
    "1.  Реализовать алгоритм поиска кратчайшего расстояния между двумя вершинами ориентированного взвешенного графа в соответствии с вариантом. \n",
    "\n",
    "2.  Предусмотреть задание графа в виде матрицы смежности/инцидентности, читаемой из файла, либо графически с помощью пользовательского интерфейса. \n",
    "\n",
    "3.  Разработать графический интерфейс пользователя с визуализацией графа и отображением кратчайшего расстояния между задаваемыми пользователем вершинами.\n",
    "\n",
    "4. По результатам работы проанализировать временную сложность работы заданного алгоритма в зависимости от числа узлов и ребер графа.\n",
    "Данные представить в виде таблицы.\n",
    "\n"
   ]
  },
  {
   "cell_type": "markdown",
   "metadata": {
    "id": "LhhUXrAmotIA"
   },
   "source": [
    "### Алгоритмы:\n",
    "\n",
    "Алгоритм Флойда-Уоршелла| Алгоритм Дейкстры | Алгоритм Беллмана-Форда | Алгоритм Джонсона| Алгоритм Левита | Алгоритм Йена\n",
    "\n"
   ]
  },
  {
   "cell_type": "markdown",
   "metadata": {
    "id": "Wggfn8l7nG72"
   },
   "source": [
    "### Выполнение:"
   ]
  },
  {
   "cell_type": "code",
   "execution_count": 6,
   "metadata": {
    "id": "681a95mZnOSa"
   },
   "outputs": [
    {
     "name": "stdout",
     "output_type": "stream",
     "text": [
      "filename= d:\\lab66.txt\n",
      "---T= [0, 40, 64, 44, 14]\n",
      "Кол.узлов/ребер= 5/8 Длина= 14 Кол.узлов= 2 Путь= 0 -> 4 [0, 4]\n"
     ]
    },
    {
     "data": {
      "image/png": "[encoded data removed]",
      "text/plain": [
       "<Figure size 432x288 with 1 Axes>"
      ]
     },
     "metadata": {},
     "output_type": "display_data"
    },
    {
     "name": "stdout",
     "output_type": "stream",
     "text": [
      "---T= [0, 29, 18, 26, 29]\n",
      "Кол.узлов/ребер= 5/10 Длина= 29 Кол.узлов= 2 Путь= 0 -> 4 [0, 4]\n",
      "\n",
      "                 Время поиска\n",
      "Количество узлов/ребер      Длительность, ms\n",
      "------------------------  ------------------\n",
      "5/8                                        0\n",
      "5/10                                       0\n",
      "Завершено\n"
     ]
    }
   ],
   "source": [
    "import random\n",
    "import math\n",
    "import time\n",
    "import tabulate\n",
    "from tabulate import tabulate\n",
    "import networkx as nx \n",
    "import matplotlib.pyplot as plt\n",
    "import ipywidgets as widgets\n",
    "\n",
    "##############################################################################\n",
    "#ПОИСК КРАТЧАЙШЕГО ПУТИ в ГРАФЕ МЕТОДОМ ДЕЙКСТРЫ\n",
    "#Выведем время выполнения алгоритма в зависимости от числа узлов и ребер графа\n",
    "##############################################################################\n",
    "#Задать параметры filename=\"d:\\\\lab66.txt\"\n",
    "filename=\"d:\\\\lab66.txt\"\n",
    "print(\"filename=\",filename)\n",
    "tableoftable = [] #инициализация таблицы вывода/1\n",
    "\n",
    "#Сгенерировать матрицу содержащую случайные числа\n",
    "def create_random_matrix_and_save(matrix_size, SET_INFINITY_VALUES):   \n",
    "    matrix_maxvalue=matrix_size*10 #максимальное значение веса в матрице  \n",
    "    matrix = [[random.randint(10, matrix_maxvalue) for i in range(matrix_size)] for j in range(matrix_size)]\n",
    "\n",
    "    #Уменьшить количество ребер для анализа /замена значения на math.inf\n",
    "    if SET_INFINITY_VALUES == True:\n",
    "        for i in range(matrix_size):\n",
    "            for j in range(0,matrix_size-1):\n",
    "                if j%2 == 0: matrix[i][j] = '*'   \n",
    "                \n",
    "\n",
    "    # No vertex connects to itself\n",
    "    for i in range(matrix_size):\n",
    "        matrix[i][i] = 0\n",
    "    # If i is connected to j, j is connected to i\n",
    "    for i in range(matrix_size):\n",
    "        for j in range(matrix_size):\n",
    "            matrix[j][i] = matrix[i][j]\n",
    "            \n",
    "    #Сохранить матрицу в файл\n",
    "    myFile = open(filename, 'w') \n",
    "    for line in matrix:\n",
    "        lineStr = ','.join(str(e) for e in line)\n",
    "        #print(lineStr)  \n",
    "        myFile.write(lineStr)\n",
    "        myFile.write(\"\\n\")\n",
    "    myFile.close()\n",
    "\n",
    "#Загрузить матрицу из файла   \n",
    "#В заданном файле каждая строка соответствует строке матрице смежности\n",
    "def loadMatrix():\n",
    "    tuple3 = []\n",
    "    with open(filename) as file:\n",
    "        for line in file:\n",
    "            line=line.replace('[','')\n",
    "            line=line.replace(']','')\n",
    "            line=line.replace('(','')\n",
    "            line=line.replace(')','')\n",
    "            line=line.replace('*',\"math.inf\" )\n",
    "\n",
    "            tuple3.append(eval(line))\n",
    "    #D хранит матрицу смежности как tuple of typles    \n",
    "    D = tuple(tuple3)\n",
    "    return D\n",
    "\n",
    "##############################################################################\n",
    "#Найти кратчайшее расстояние используя Алгоритм Дейкстра\n",
    "def processDeikstra(D,finish):\n",
    "    N = len(D)  # число вершин в графе\n",
    "    start = 0  # начало пути#  \n",
    "    \n",
    "    #Инициализируем список расстояний (последнюю строку таблицы)\n",
    "    #значениями=infinity а первый элемент=0     \n",
    "    T = [math.inf]*N   # последняя строка таблицы\n",
    "    v = 0       # стартовая вершина (нумерация с нуля)\n",
    "    S = {v}     # просмотренные вершины\n",
    "    T[v] = 0    # нулевой вес для стартовой вершины\n",
    "    M = [0]*N   # оптимальные связи между вершинами\n",
    "\n",
    "    start_time = time.time() #время старта/1\n",
    "\n",
    "    #Ищем минимумальное значение \n",
    "    def arg_min(T, S):\n",
    "        amin = -1\n",
    "        m = math.inf  #максимальное значение\n",
    "        for i, t in enumerate(T):\n",
    "            if t < m and i not in S:\n",
    "                m = t\n",
    "                amin = i\n",
    "        return amin\n",
    "\n",
    "    while v != -1: #цикл по всем вершинам\n",
    "        for j, dw in enumerate(D[v]):   #цикл по всем вершинам связанным с вершиной v\n",
    "            #if dw == math.inf: continue\n",
    "            #print(\"v,D[v],j,dw=\",v,D[v],j,dw)\n",
    "            if j not in S:          # если вершина еще не просмотрена\n",
    "                w = T[v] + dw\n",
    "                if w < T[j]:\n",
    "                    T[j] = w\n",
    "                    M[j] = v        # связываем вершину j с вершиной v\n",
    "        v = arg_min(T, S)           # выбираем следующий узел с наименьшим весом\n",
    "        if v >= 0:                  # выбрана очередная вершина\n",
    "            S.add(v)                # добавляем новую вершину в рассмотренные\n",
    "    #print(T, M, sep=\"\\n\")\n",
    "    #Формируем оптимальный путь\n",
    "    end = finish #временная переменная\n",
    "    P = [end]\n",
    "    print(\"---T=\",T)\n",
    "    while end != start:\n",
    "        end = M[P[-1]]\n",
    "        P.append(end)\n",
    "    P.sort()\n",
    "    #Найдем длину пути как сумма отрезков(весов дуг)\n",
    "    distance=0\n",
    "    for i in range(len(P)-1):\n",
    "        row=P[i]\n",
    "        col=P[i+1]\n",
    "        if D[row][col] != math.inf: distance += D[row][col]\n",
    "        #else: print(\"D==inf D[row][col]=\",row,col)    \n",
    "        ######////////////////////////////////    \n",
    "    duration = round((time.time() - start_time)*1000)  #/2 длительность поиска\n",
    "    \n",
    "    #Подсчитаем количество ребер графа\n",
    "    edges=0\n",
    "    for i in range(N):\n",
    "        for j in range(N):\n",
    "            if  D[i][j] != 0 and D[i][j] != math.inf: edges += 1 #ненулевые связи\n",
    "    edges = int(edges / 2) #половина матицы дублируется\n",
    "    #параметры графа\n",
    "    tmp = str(N) + \"/\" + str(edges)\n",
    "    print(\"Кол.узлов/ребер=\",tmp,\"Длина=\",distance,\"Кол.узлов=\",len(P),\"Путь=\",P[0],\"->\",P[len(P)-1],P) \n",
    "    #Формируем строку таблицу вывода статистики/3\n",
    "    table1 = [];\n",
    "    table1.append(tmp);\n",
    "    table1.append(duration);\n",
    "    tableoftable.append(table1) #печатаем таблицу времени поиска/4 \n",
    "    return P\n",
    "    \n",
    "##############################################################################\n",
    "#Вывести граф с помощью графического пакета networkx\n",
    "def showGraph(D,P,finish):\n",
    "    #Найдем длину пути как сумма отрезков(весов дуг)\n",
    "    distance=0\n",
    "    for i in range(len(P)-1):\n",
    "        row=P[i]\n",
    "        col=P[i+1]\n",
    "        if D[row][col] != math.inf: distance += D[row][col]\n",
    "            \n",
    "    N = len(D)  # число вершин в графе\n",
    "    G = nx.Graph() #nx.DiGraph() for directed graph\n",
    "    #добавим узлы \n",
    "    for i in range(N):\n",
    "        G.add_node(i)\n",
    "\n",
    "    #Добавим дуги с весом и цветом из D\n",
    "    #G.add_edge(0,1,weight=10)\n",
    "    for row in range(N):\n",
    "        for col in range(N):\n",
    "            value = D[row][col]\n",
    "            if value != 0 and value != math.inf:\n",
    "                #print(row,col,value)\n",
    "                G.add_edge(row,col,weight=value)\n",
    "\n",
    "    #Добавим дугу от начальной до конечной точки            \n",
    "    G.add_edge(0,finish,weight=distance)\n",
    "\n",
    "    #Зададим цвета узлов на основании P    \n",
    "    color_map = []\n",
    "    for node in G:\n",
    "        presented=False\n",
    "        for i in range(len(P)):\n",
    "            #print(P[i]) \n",
    "            if node == P[i]: \n",
    "                presented=True\n",
    "                break\n",
    "        if presented: color_map.append('yellow')\n",
    "        else: color_map.append('green')   \n",
    "\n",
    "    #Зададим цвета дуг\n",
    "    color_map2 = []\n",
    "    for edge in G.edges():\n",
    "        if edge[0] == 0 and edge[1] == finish: \n",
    "            color_map2.append('red')\n",
    "            continue\n",
    "        presented=False\n",
    "        for i in range(len(P)-1):\n",
    "            if edge[0] == P[i] and edge[1] == P[i+1]: \n",
    "                presented=True\n",
    "                break\n",
    "        if presented: color_map2.append('yellow')\n",
    "        else: color_map2.append('green') \n",
    "\n",
    "    pos=nx.spring_layout(G) \n",
    "    #зададим цвет/размер узла,размер шрифта\n",
    "    nx.draw_networkx(G,pos,node_color=color_map,font_size=25,node_size=1500)\n",
    "    labels = nx.get_edge_attributes(G,'weight')\n",
    "    #зададим параметры меток дуг-веса и шрифт\n",
    "    nx.draw_networkx_edge_labels(G,pos,edge_labels=labels,font_size=15)\n",
    "    #зададим параметры меток дуг-толщина и цвет\n",
    "    nx.draw_networkx_edges(G,pos,width=4.0,edge_color=color_map2)    \n",
    "    plt.show() #Вывести граф    \n",
    "    \n",
    "#######################################################################################    \n",
    "###start\n",
    "#определим размер матрицы в цикле \n",
    "#(100, 400, 300)\n",
    "count=0\n",
    "###########################\n",
    "#Тут задаем размеры матриц \n",
    "for matrix_size in range (5,400, 400): \n",
    "    ###########################\n",
    "    count= count+1\n",
    "    #Небольшое количество ребер=замена половины значений на math.inf\n",
    "    create_random_matrix_and_save(matrix_size,True) \n",
    "    D = loadMatrix()\n",
    "    N = len(D)  # число вершин в графе\n",
    "    ###########################\n",
    "    finish = N-1 # конец пути# тут можем задать конец пути \n",
    "    ###########################\n",
    "    P = processDeikstra(D,finish)\n",
    "    if count == 1 and matrix_size< 10: showGraph(D,P,finish)\n",
    "    #Максимальное количество ребер \n",
    "    create_random_matrix_and_save(matrix_size,False) \n",
    "    D = loadMatrix()\n",
    "    P = processDeikstra(D,finish)\n",
    "    \n",
    "print()\n",
    "print(\"                 Время поиска\")\n",
    "print(tabulate(tableoftable, headers=[\"Количество узлов/ребер\",\"Длительность, ms\"])) #таблица на печать, с заголовком/4\n",
    "tableoftable.clear()\n",
    "print(\"Завершено\")"
   ]
  },
  {
   "cell_type": "markdown",
   "metadata": {
    "id": "diOb-K7LnO5a"
   },
   "source": [
    "### Вывод"
   ]
  },
  {
   "cell_type": "code",
   "execution_count": 7,
   "metadata": {},
   "outputs": [
    {
     "name": "stdout",
     "output_type": "stream",
     "text": [
      "filename= d:\\lab6.txt\n",
      "---T= [0, 3, 1, 3, 8, 5]\n",
      "Кол.узлов/ребер= 6/8 Длина= 5 Кол.узлов= 3 Путь= 0 -> 5 [0, 3, 5]\n"
     ]
    },
    {
     "data": {
      "image/png": "[encoded data removed]",
      "text/plain": [
       "<Figure size 432x288 with 1 Axes>"
      ]
     },
     "metadata": {},
     "output_type": "display_data"
    }
   ],
   "source": [
    "###########################\n",
    "#Это тестовый прогон с предварительно подготовленной матрицей в задвнном файле:\n",
    "filename=\"d:\\\\lab6.txt\"\n",
    "print(\"filename=\",filename)\n",
    "D = loadMatrix()\n",
    "N = len(D)  # число вершин в графе\n",
    "###########################\n",
    "finish = N-1 # конец пути# тут можем задать конец пути \n",
    "###########################\n",
    "P = processDeikstra(D,finish)\n",
    "showGraph(D,P,finish)"
   ]
  },
  {
   "cell_type": "code",
   "execution_count": null,
   "metadata": {},
   "outputs": [],
   "source": []
  }
 ],
 "metadata": {
  "colab": {
   "name": "Lab6.ipynb",
   "provenance": []
  },
  "kernelspec": {
   "display_name": "Python 3 (ipykernel)",
   "language": "python",
   "name": "python3"
  },
  "language_info": {
   "codemirror_mode": {
    "name": "ipython",
    "version": 3
   },
   "file_extension": ".py",
   "mimetype": "text/x-python",
   "name": "python",
   "nbconvert_exporter": "python",
   "pygments_lexer": "ipython3",
   "version": "3.9.7"
  }
 },
 "nbformat": 4,
 "nbformat_minor": 1
}
