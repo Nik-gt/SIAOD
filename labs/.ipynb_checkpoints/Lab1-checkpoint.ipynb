{
 "cells": [
  {
   "cell_type": "markdown",
   "id": "fifteen-sailing",
   "metadata": {},
   "source": [
    "# Лабораторная работа №1\n",
    "## Выполнил студент группы БВТ2004 Архипов Никита Дмитриевич"
   ]
  },
  {
   "cell_type": "markdown",
   "id": "particular-syndicate",
   "metadata": {},
   "source": [
    "### Оглавление\n",
    "1. [Задание 1](#Задание-№1)\n",
    "2. [Задание 2](#Задание-№2)\n",
    "3. [Задание 3](#Задание-№3)\n",
    "4. [Вывод](#Вывод)"
   ]
  },
  {
   "cell_type": "markdown",
   "id": "arctic-stocks",
   "metadata": {},
   "source": [
    "### Задание №1\n",
    "<i> Вызвать функцию print() и передать туда строку Hello, World! </i>"
   ]
  },
  {
   "cell_type": "code",
   "execution_count": 237,
   "id": "36b86b62",
   "metadata": {},
   "outputs": [
    {
     "name": "stdout",
     "output_type": "stream",
     "text": [
      "Hello, World!\n"
     ]
    }
   ],
   "source": [
    "print(\"Hello, World!\")"
   ]
  },
  {
   "cell_type": "markdown",
   "id": "maritime-conversation",
   "metadata": {},
   "source": [
    "### Задание №2\n",
    "Написать генератор случайных матриц(многомерных), который принимает\n",
    "опциональные параметры <b>m</b>, <b>n</b>, <b>min_limit</b>, <b>max_limit</b>, где <b>m</b> и <b>n</b> указывают размер\n",
    "матрицы, а <b>min_lim</b> и <b>max_lim</b> - минимальное и максимальное значение для\n",
    "генерируемого числа."
   ]
  },
  {
   "cell_type": "code",
   "execution_count": 238,
   "id": "built-contact",
   "metadata": {},
   "outputs": [],
   "source": [
    "import random\n",
    "import time"
   ]
  },
  {
   "cell_type": "code",
   "execution_count": 239,
   "id": "alert-charm",
   "metadata": {},
   "outputs": [
    {
     "name": "stdout",
     "output_type": "stream",
     "text": [
      "5\n",
      "5\n",
      "0\n",
      "5\n",
      "Matrix:\n",
      "[5, 1, 1, 5, 1]\n",
      "[4, 2, 3, 0, 1]\n",
      "[1, 4, 5, 4, 5]\n",
      "[3, 5, 5, 4, 1]\n",
      "[3, 1, 1, 3, 1]\n"
     ]
    }
   ],
   "source": [
    "user_m = int(input())\n",
    "user_n = int(input())\n",
    "user_min_limit = int(input())\n",
    "user_max_limit = int(input())\n",
    "user_m, user_n, user_min_limit, user_max_limit\n",
    "\n",
    "Matrix = [ [ random.randint(user_min_limit, user_max_limit) for j in range(user_n)] for i in range(user_m) ]\n",
    "print('Matrix:')\n",
    "for i in range(user_m):\n",
    "    print(Matrix[i])"
   ]
  },
  {
   "cell_type": "markdown",
   "id": "catholic-roots",
   "metadata": {},
   "source": [
    "### Задание №3\n",
    "Реализовать методы сортировки строк числовой матрицы в соответствии с\n",
    "заданием. Оценить время работы каждого алгоритма сортировки и сравнить его со\n",
    "временем стандартной функции сортировки. Испытания проводить на сгенерированных\n",
    "матрицах."
   ]
  },
  {
   "cell_type": "code",
   "execution_count": 240,
   "id": "opposed-creature",
   "metadata": {},
   "outputs": [],
   "source": [
    "import copy"
   ]
  },
  {
   "cell_type": "code",
   "execution_count": 2,
   "id": "05d51329",
   "metadata": {},
   "outputs": [
    {
     "ename": "NameError",
     "evalue": "name 'time' is not defined",
     "output_type": "error",
     "traceback": [
      "\u001b[1;31m---------------------------------------------------------------------------\u001b[0m",
      "\u001b[1;31mNameError\u001b[0m                                 Traceback (most recent call last)",
      "\u001b[1;32m~\\AppData\\Local\\Temp/ipykernel_11500/754558467.py\u001b[0m in \u001b[0;36m<module>\u001b[1;34m\u001b[0m\n\u001b[0;32m      1\u001b[0m \u001b[1;31m# Сортировка методом sort\u001b[0m\u001b[1;33m\u001b[0m\u001b[1;33m\u001b[0m\u001b[0m\n\u001b[1;32m----> 2\u001b[1;33m \u001b[0mstart_time\u001b[0m \u001b[1;33m=\u001b[0m \u001b[0mtime\u001b[0m\u001b[1;33m.\u001b[0m\u001b[0mtime\u001b[0m\u001b[1;33m(\u001b[0m\u001b[1;33m)\u001b[0m\u001b[1;33m\u001b[0m\u001b[1;33m\u001b[0m\u001b[0m\n\u001b[0m\u001b[0;32m      3\u001b[0m \u001b[0mMatrix0\u001b[0m \u001b[1;33m=\u001b[0m \u001b[0mcopy\u001b[0m\u001b[1;33m.\u001b[0m\u001b[0mdeepcopy\u001b[0m\u001b[1;33m(\u001b[0m\u001b[0mMatrix\u001b[0m\u001b[1;33m)\u001b[0m\u001b[1;33m\u001b[0m\u001b[1;33m\u001b[0m\u001b[0m\n\u001b[0;32m      4\u001b[0m \u001b[1;32mfor\u001b[0m \u001b[0mi\u001b[0m \u001b[1;32min\u001b[0m \u001b[0mrange\u001b[0m\u001b[1;33m(\u001b[0m\u001b[0muser_m\u001b[0m\u001b[1;33m)\u001b[0m\u001b[1;33m:\u001b[0m\u001b[1;33m\u001b[0m\u001b[1;33m\u001b[0m\u001b[0m\n\u001b[0;32m      5\u001b[0m     \u001b[0mMatrix0\u001b[0m\u001b[1;33m[\u001b[0m\u001b[0mi\u001b[0m\u001b[1;33m]\u001b[0m\u001b[1;33m.\u001b[0m\u001b[0msort\u001b[0m\u001b[1;33m(\u001b[0m\u001b[1;33m)\u001b[0m\u001b[1;33m\u001b[0m\u001b[1;33m\u001b[0m\u001b[0m\n",
      "\u001b[1;31mNameError\u001b[0m: name 'time' is not defined"
     ]
    }
   ],
   "source": [
    "# Сортировка методом sort\n",
    "start_time = time.time()\n",
    "Matrix0 = copy.deepcopy(Matrix) \n",
    "for i in range(user_m):\n",
    "    Matrix0[i].sort()\n",
    "\n",
    "print(\"--- {0} ms ---\".format(round((time.time() - start_time)*1000)))\n",
    "for i in range(user_m):\n",
    "    print(Matrix0[i])"
   ]
  },
  {
   "cell_type": "code",
   "execution_count": 242,
   "id": "cleared-anniversary",
   "metadata": {},
   "outputs": [
    {
     "name": "stdout",
     "output_type": "stream",
     "text": [
      "--- 0 ms ---\n",
      "[1, 1, 1, 5, 5]\n",
      "[0, 1, 2, 3, 4]\n",
      "[1, 4, 4, 5, 5]\n",
      "[1, 3, 4, 5, 5]\n",
      "[1, 1, 1, 3, 3]\n"
     ]
    }
   ],
   "source": [
    "# Сортировка выбором.\n",
    "# Берётся срез массива, в котором минимальный элемент переносят в самый левый угол,\n",
    "# после чего срез уменьшается и цикл повторяется.\n",
    "start_time = time.time()\n",
    "#TODO\n",
    "Matrix2 = copy.deepcopy(Matrix)\n",
    "def selection_sort(nums):        \n",
    "    for i in range(user_n):\n",
    "        minimum = i\n",
    "        \n",
    "        for j in range(i + 1, user_n):\n",
    "            # Выбор наименьшего значения\n",
    "            if nums[j] < nums[minimum]:\n",
    "                minimum = j\n",
    "\n",
    "        # Помещаем это перед отсортированным концом массива\n",
    "        nums[minimum], nums[i] = nums[i], nums[minimum]\n",
    "            \n",
    "    return nums\n",
    "\n",
    "for i in range(user_m):\n",
    "    selection_sort(Matrix2[i])   \n",
    "print(\"--- {0} ms ---\".format(round((time.time() - start_time)*1000)))\n",
    "for i in range(user_m):\n",
    "    print(Matrix2[i])"
   ]
  },
  {
   "cell_type": "code",
   "execution_count": 3,
   "id": "roman-silly",
   "metadata": {
    "scrolled": true
   },
   "outputs": [
    {
     "ename": "NameError",
     "evalue": "name 'time' is not defined",
     "output_type": "error",
     "traceback": [
      "\u001b[1;31m---------------------------------------------------------------------------\u001b[0m",
      "\u001b[1;31mNameError\u001b[0m                                 Traceback (most recent call last)",
      "\u001b[1;32m~\\AppData\\Local\\Temp/ipykernel_11880/678684593.py\u001b[0m in \u001b[0;36m<module>\u001b[1;34m\u001b[0m\n\u001b[0;32m      3\u001b[0m \u001b[1;31m# Из неотсортированной части берем самый левый элемент и переносим в отсортированную часть\u001b[0m\u001b[1;33m\u001b[0m\u001b[1;33m\u001b[0m\u001b[0m\n\u001b[0;32m      4\u001b[0m \u001b[1;31m# Так чтобы он был отсортирован. То есть сдвигаем вправо все элементы которые больше\u001b[0m\u001b[1;33m\u001b[0m\u001b[1;33m\u001b[0m\u001b[0m\n\u001b[1;32m----> 5\u001b[1;33m \u001b[0mstart_time\u001b[0m \u001b[1;33m=\u001b[0m \u001b[0mtime\u001b[0m\u001b[1;33m.\u001b[0m\u001b[0mtime\u001b[0m\u001b[1;33m(\u001b[0m\u001b[1;33m)\u001b[0m\u001b[1;33m\u001b[0m\u001b[1;33m\u001b[0m\u001b[0m\n\u001b[0m\u001b[0;32m      6\u001b[0m \u001b[1;31m#TODO\u001b[0m\u001b[1;33m\u001b[0m\u001b[1;33m\u001b[0m\u001b[0m\n\u001b[0;32m      7\u001b[0m \u001b[0mMatrix3\u001b[0m \u001b[1;33m=\u001b[0m \u001b[0mcopy\u001b[0m\u001b[1;33m.\u001b[0m\u001b[0mdeepcopy\u001b[0m\u001b[1;33m(\u001b[0m\u001b[0mMatrix\u001b[0m\u001b[1;33m)\u001b[0m\u001b[1;33m\u001b[0m\u001b[1;33m\u001b[0m\u001b[0m\n",
      "\u001b[1;31mNameError\u001b[0m: name 'time' is not defined"
     ]
    }
   ],
   "source": [
    "# Сортировка вставкой.\n",
    "# 1.Слева-отсортированная часть, выделяем в нее один элемент\n",
    "# 2.Из неотсортированной части берем самый левый элемент и переносим его в отсортированную часть\n",
    "# Так чтобы он не нарушил сортировки. Для этого сдвигаем вправо все элементы которые больше его\n",
    "# Находим его место и вставляем его.Повторяем п2\n",
    "# В конце неотсортированная часть заканчивается и остается только отсортированная\n",
    "start_time = time.time()\n",
    "#TODO\n",
    "Matrix3 = copy.deepcopy(Matrix)\n",
    "\n",
    "def insertion_sort(nums):\n",
    "        \n",
    "    for i in range(user_n):\n",
    "        cursor = nums[i]\n",
    "        pos = i\n",
    "        \n",
    "        while pos > 0 and nums[pos - 1] > cursor:\n",
    "            # Меняем местами число, продвигая по списку\n",
    "            nums[pos] = nums[pos - 1]\n",
    "            pos = pos - 1\n",
    "        # Остановимся и сделаем последний обмен\n",
    "        nums[pos] = cursor\n",
    "\n",
    "    return nums\n",
    "\n",
    "for i in range(user_m):\n",
    "    insertion_sort(Matrix3[i])\n",
    "print(\"--- {0} ms ---\".format(round((time.time() - start_time)*1000))) \n",
    "for i in range(user_m):\n",
    "    print(Matrix3[i])"
   ]
  },
  {
   "cell_type": "code",
   "execution_count": 244,
   "id": "vital-implementation",
   "metadata": {},
   "outputs": [
    {
     "name": "stdout",
     "output_type": "stream",
     "text": [
      "--- 0 ms ---\n",
      "[1, 1, 1, 5, 5]\n",
      "[0, 1, 2, 3, 4]\n",
      "[1, 4, 4, 5, 5]\n",
      "[1, 3, 4, 5, 5]\n",
      "[1, 1, 1, 3, 3]\n"
     ]
    }
   ],
   "source": [
    "# Сортировка обменом. || Сортировка пузырьком.\n",
    "# В каждой итерации:\n",
    "# Сравниваем два соседних элемента: текущий и следующий\n",
    "# Если текущий больше, меняем элементы местами\n",
    "# В конце итерации всплывает максимальный элемент\n",
    "# Продолжаем итерации. Если в текущей итерации нет обмена, заканчиваем итерации.\n",
    "start_time = time.time()\n",
    "#TODO\n",
    "Matrix4 = copy.deepcopy(Matrix)\n",
    "def bubble_sort(nums):\n",
    "    def swap(i, j):\n",
    "        nums[i], nums[j] = nums[j], nums[i]\n",
    "\n",
    "    n = user_n\n",
    "    swapped = True\n",
    "    \n",
    "    x = -1\n",
    "    while swapped:\n",
    "        swapped = False\n",
    "        x = x + 1\n",
    "        for i in range(1, n-x):\n",
    "            if nums[i - 1] > nums[i]:\n",
    "                swap(i - 1, i)\n",
    "                swapped = True\n",
    "\n",
    "for i in range(user_m):\n",
    "    bubble_sort(Matrix4[i])\n",
    "print(\"--- {0} ms ---\".format(round((time.time() - start_time)*1000)))\n",
    "for i in range(user_m):\n",
    "    print(Matrix4[i])"
   ]
  },
  {
   "cell_type": "code",
   "execution_count": 4,
   "id": "veterinary-glory",
   "metadata": {},
   "outputs": [
    {
     "ename": "SyntaxError",
     "evalue": "invalid syntax (Temp/ipykernel_11880/3148991720.py, line 2)",
     "output_type": "error",
     "traceback": [
      "\u001b[1;36m  File \u001b[1;32m\"C:\\Users\\daark\\AppData\\Local\\Temp/ipykernel_11880/3148991720.py\"\u001b[1;36m, line \u001b[1;32m2\u001b[0m\n\u001b[1;33m    Вычисляем шаг сравнений элементов=количество делим на 2\u001b[0m\n\u001b[1;37m              ^\u001b[0m\n\u001b[1;31mSyntaxError\u001b[0m\u001b[1;31m:\u001b[0m invalid syntax\n"
     ]
    }
   ],
   "source": [
    "# Сортировка Шелла.(улучшенная сортировка вставками)\n",
    "# 1.Вычисляем шаг сравнений(gap)=количество элем. делим на 2. \n",
    "# 2.Выбираем группу элементов i и i+gap. Сортируем их вставками\n",
    "# Доходим до конца и вычисляем новый шаг= предыдущий шаг делим снова на 2 \n",
    "# Повторяем п2 пока gap > 0\n",
    "#Оптимизация. Если gap > 2 то можно не сортировать а просто переставлять пары\n",
    "import math\n",
    "start_time = time.time()\n",
    "#TODO\n",
    "Matrix5 = copy.deepcopy(Matrix)\n",
    "def shellSort(nums):\n",
    "    gap = user_n//2\n",
    "    while gap > 0:            \n",
    "        for iIndex in range(gap, user_n):\n",
    "            temp = nums[iIndex]\n",
    "            jIndex = iIndex\n",
    "            while jIndex >= gap and nums[jIndex - gap] > temp:                    \n",
    "                nums[jIndex] = nums[jIndex - gap]\n",
    "                jIndex -= gap\n",
    "            nums[jIndex] = temp\n",
    "        gap //= 2\n",
    "    return nums\n",
    "\n",
    "\n",
    "for i in range(user_m):\n",
    "    shellSort(Matrix5[i])\n",
    "print(\"--- {0} ms ---\".format(round((time.time() - start_time)*1000)))\n",
    "for i in range(user_m):\n",
    "    print(Matrix5[i])"
   ]
  },
  {
   "cell_type": "code",
   "execution_count": 246,
   "id": "correct-chaos",
   "metadata": {
    "scrolled": true
   },
   "outputs": [
    {
     "name": "stdout",
     "output_type": "stream",
     "text": [
      "--- 1 ms ---\n",
      "[1, 1, 1, 5, 5]\n",
      "[0, 1, 2, 3, 4]\n",
      "[1, 4, 4, 5, 5]\n",
      "[1, 3, 4, 5, 5]\n",
      "[1, 1, 1, 3, 3]\n"
     ]
    }
   ],
   "source": [
    "# Быстрая сортировка.\n",
    "#1.Выбираем опорный элемент\n",
    "# Все меньшие элементы передвигаем слева от опорного, а большие-справа\n",
    "# Получаем два подмассива. В каждом подмассиве повторяем п1 \n",
    "# Пока подмассивы превратятся в элемент и их уже не нужно сортировать \n",
    "# Каждый подмассив можно сортировать отдельно-можно распараллелить сортировку\n",
    "# Массив отсортирован, когда для каждого элемента массива выполняется условие, \n",
    "# что слева все элементы меньше а справа все элементы больше\n",
    "start_time = time.time()\n",
    "#TODO\n",
    "Matrix6 = copy.deepcopy(Matrix)\n",
    "def partition(nums, low, high):\n",
    "    # Выбираем средний элемент в качестве опорного\n",
    "    # Также возможен выбор первого, последнего\n",
    "    # или произвольного элементов в качестве опорного\n",
    "    pivot = nums[(low + high) // 2]\n",
    "    i = low - 1\n",
    "    j = high + 1\n",
    "    while True:\n",
    "        i += 1\n",
    "        while nums[i] < pivot:\n",
    "            i += 1\n",
    "\n",
    "        j -= 1\n",
    "        while nums[j] > pivot:\n",
    "            j -= 1\n",
    "\n",
    "        if i >= j:\n",
    "            return j\n",
    "\n",
    "        # Если элемент с индексом i (слева от опорного) больше, чем\n",
    "        # элемент с индексом j (справа от опорного), меняем их местами\n",
    "        nums[i], nums[j] = nums[j], nums[i]\n",
    "\n",
    "def quick_sort(nums):\n",
    "    # Создадим вспомогательную функцию, которая вызывается рекурсивно\n",
    "    def _quick_sort(items, low, high):\n",
    "        if low < high:\n",
    "            # This is the index after the pivot, where our lists are split\n",
    "            split_index = partition(items, low, high)\n",
    "            _quick_sort(items, low, split_index)\n",
    "            _quick_sort(items, split_index + 1, high)\n",
    "\n",
    "    _quick_sort(nums, 0, len(nums) - 1)\n",
    "   \n",
    "for i in range(user_m):\n",
    "     quick_sort(Matrix6[i])\n",
    "print(\"--- {0} ms ---\".format(round((time.time() - start_time)*1000)))\n",
    "for i in range(user_m):\n",
    "    print(Matrix6[i])\n",
    "    "
   ]
  },
  {
   "cell_type": "code",
   "execution_count": 247,
   "id": "a9dc01dd",
   "metadata": {
    "scrolled": true
   },
   "outputs": [
    {
     "name": "stdout",
     "output_type": "stream",
     "text": [
      "--- 0 ms ---\n",
      "[1, 1, 1, 5, 5]\n",
      "[0, 1, 2, 3, 4]\n",
      "[1, 4, 4, 5, 5]\n",
      "[1, 3, 4, 5, 5]\n",
      "[1, 1, 1, 3, 3]\n"
     ]
    }
   ],
   "source": [
    "# Турнирная сортировка.\n",
    "start_time = time.time()\n",
    "#TODO\n",
    "import random\n",
    "import copy\n",
    "\n",
    "# Копируем первоначальный список в Matrix7 который будем сортировать\n",
    "Matrix7 = copy.deepcopy(Matrix) \n",
    "def tournament(nums, heap_size, root_index):  \n",
    "     # Индекс макс.элемента считается корневым индексом\n",
    "     largest = root_index\n",
    "     left = 2 * root_index + 1\n",
    "     right = 2 * root_index + 2\n",
    " \n",
    "     # Если левый потомок корня — допустимый индекс, а элемент больше,\n",
    "     # чем текущий наибольший, то обновляем наибольший элемент\n",
    "     if left < heap_size and nums[left] > nums[largest]:\n",
    "         largest = left\n",
    "     # То же самое и для правого потомка корня\n",
    "     if right < heap_size and nums[right] > nums[largest]:\n",
    "         largest = right\n",
    "     # Если наибольший элемент уже не корневой, они меняются местами\n",
    "     if largest != root_index:\n",
    "         nums[root_index], nums[largest] = nums[largest], nums[root_index]\n",
    "         heapify(nums, heap_size, largest)\n",
    " \n",
    "# Сортируем список list \n",
    "def tournament_sort(nums):  \n",
    "     n = len(nums) # размер списка\n",
    "     # -1= конец цикла= -1 (перед первым элементом списка)\n",
    "     # -1= идти от конца к началу\n",
    "     for i in range(n, -1, -1):\n",
    "         tournament(nums, n, i)  # Преобразуем дерево первоначально\n",
    "     \n",
    "     for i in range(n - 1, 0, -1):\n",
    "     \t# Меняем местами Макс элемент(с индексом 0) и последний элемент списка \n",
    "        # после которого идут отсортированные элементы(с индексом i)\n",
    "        # /неотсортированные элементы/отсортированные элементы/\n",
    "        # например /54321/6789/\n",
    "         nums[i], nums[0] = nums[0], nums[i]\n",
    "         tournament(nums, i, 0) # Преобразуем дерево после сохранения макс элемента\n",
    "\n",
    "# Сортировка \n",
    "for i in range(user_m):  \n",
    "\ttournament_sort(Matrix7[i]) # Выбираем строку i списка списков и сортируем ее\n",
    "# Все строки отсортированы, вывод результата\n",
    "print(\"--- {0} ms ---\".format(round((time.time() - start_time)*1000)))\n",
    "for i in range(user_m):\n",
    "\tprint(Matrix7[i])"
   ]
  },
  {
   "cell_type": "markdown",
   "id": "rental-jerusalem",
   "metadata": {},
   "source": [
    "### Вывод\n"
   ]
  },
  {
   "cell_type": "markdown",
   "id": "484f81e7",
   "metadata": {},
   "source": [
    "##### "
   ]
  }
 ],
 "metadata": {
  "kernelspec": {
   "display_name": "Python 3 (ipykernel)",
   "language": "python",
   "name": "python3"
  },
  "language_info": {
   "codemirror_mode": {
    "name": "ipython",
    "version": 3
   },
   "file_extension": ".py",
   "mimetype": "text/x-python",
   "name": "python",
   "nbconvert_exporter": "python",
   "pygments_lexer": "ipython3",
   "version": "3.9.7"
  }
 },
 "nbformat": 4,
 "nbformat_minor": 5
}
